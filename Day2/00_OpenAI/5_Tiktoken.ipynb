{
  "cells": [
    {
      "cell_type": "markdown",
      "id": "87737056",
      "metadata": {
        "id": "87737056"
      },
      "source": [
        "Why?\n",
        "\n",
        "* Want to estimate costs (pay per token)\n",
        "* Want to ensure your prompt doesn't exceed max sequence length"
      ]
    },
    {
      "cell_type": "markdown",
      "source": [
        "\n",
        "\n",
        "---\n",
        "\n",
        "each AI has dif tokenize process follow algorithm;\n",
        "ส\n",
        "สวัสดี\n",
        "\n",
        "counting token before submit promt\n",
        "\n",
        "---\n",
        "\n"
      ],
      "metadata": {
        "id": "vnsXIJ8S08wo"
      },
      "id": "vnsXIJ8S08wo"
    },
    {
      "cell_type": "code",
      "execution_count": null,
      "id": "a4d173e6",
      "metadata": {
        "id": "a4d173e6",
        "outputId": "2027ad42-04e8-4768-c815-332eaa68371c"
      },
      "outputs": [
        {
          "name": "stdout",
          "output_type": "stream",
          "text": [
            "Notebook cleaned.\n"
          ]
        }
      ],
      "source": [
        "import IPython\n",
        "import sys\n",
        "\n",
        "def clean_notebook():\n",
        "    IPython.display.clear_output(wait=True)\n",
        "    print(\"Notebook cleaned.\")\n",
        "\n",
        "!pip install openai\n",
        "!pip install gradio\n",
        "!pip install tiktoken\n",
        "\n",
        "# Clean up the notebook\n",
        "clean_notebook()"
      ]
    },
    {
      "cell_type": "markdown",
      "metadata": {
        "id": "PFJd4PmsxjKb"
      },
      "source": [
        "![](https://deeplearningcourses.com/notebooks_v3_pxl?sc=AVRK7SgM9ASkQf5TAqs_wA&n=Tiktoken)"
      ],
      "id": "PFJd4PmsxjKb"
    },
    {
      "cell_type": "code",
      "execution_count": null,
      "id": "1f1637e8",
      "metadata": {
        "id": "1f1637e8",
        "outputId": "7e7a9f4a-bf02-4acf-cdd1-a966795dc98d"
      },
      "outputs": [
        {
          "name": "stdout",
          "output_type": "stream",
          "text": [
            "Encoded tokens 9: [36748, 38313, 24152, 36748, 38133, 29419, 41427, 23084, 84646]\n"
          ]
        }
      ],
      "source": [
        "import tiktoken\n",
        "\n",
        "# Get the encoding for the model\n",
        "encoding = tiktoken.encoding_for_model('gpt-3.5-turbo')\n",
        "\n",
        "# Thai text to encode\n",
        "thai_text = \"สวัสดีครับ\"\n",
        "\n",
        "# Encode the Thai text\n",
        "tokens = encoding.encode(thai_text)\n",
        "print(f\"Encoded tokens {len(tokens)}:\", tokens)\n"
      ]
    },
    {
      "cell_type": "code",
      "execution_count": null,
      "id": "f610ba71",
      "metadata": {
        "id": "f610ba71",
        "outputId": "d6861470-9b97-4e9f-b162-c530fc1a2c92"
      },
      "outputs": [
        {
          "name": "stdout",
          "output_type": "stream",
          "text": [
            "Token: 36748, ส\n",
            "Token: 38313, ว\n",
            "Token: 24152, ั\n",
            "Token: 36748, ส\n",
            "Token: 38133, ด\n",
            "Token: 29419, ี\n",
            "Token: 41427, ค\n",
            "Token: 23084, ร\n",
            "Token: 84646, ับ\n"
          ]
        }
      ],
      "source": [
        "for token in tokens:\n",
        "    print(f\"Token: {token}, {encoding.decode([token])}\")"
      ]
    },
    {
      "cell_type": "code",
      "execution_count": null,
      "id": "61621869",
      "metadata": {
        "id": "61621869",
        "outputId": "4f80b5bd-b84b-4df0-e5f8-7a7c9731a341"
      },
      "outputs": [
        {
          "name": "stdout",
          "output_type": "stream",
          "text": [
            "Decoded text: สวัสดีครับ\n"
          ]
        }
      ],
      "source": [
        "\n",
        "# Decode the tokens back to Thai text\n",
        "decoded_text = encoding.decode(tokens)\n",
        "print(\"Decoded text:\", decoded_text)"
      ]
    },
    {
      "cell_type": "code",
      "execution_count": null,
      "id": "3ea0e15b",
      "metadata": {
        "id": "3ea0e15b"
      },
      "outputs": [],
      "source": []
    }
  ],
  "metadata": {
    "kernelspec": {
      "display_name": "Python 3 (ipykernel)",
      "language": "python",
      "name": "python3"
    },
    "language_info": {
      "codemirror_mode": {
        "name": "ipython",
        "version": 3
      },
      "file_extension": ".py",
      "mimetype": "text/x-python",
      "name": "python",
      "nbconvert_exporter": "python",
      "pygments_lexer": "ipython3",
      "version": "3.10.13"
    },
    "sc": "AVRK7SgM9ASkQf5TAqs_wA",
    "colab": {
      "provenance": []
    }
  },
  "nbformat": 4,
  "nbformat_minor": 5
}