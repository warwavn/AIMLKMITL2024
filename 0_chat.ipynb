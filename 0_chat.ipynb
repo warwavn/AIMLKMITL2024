{
  "cells": [
    {
      "cell_type": "markdown",
      "metadata": {
        "id": "zupKFK8qh5eV"
      },
      "source": [
        "## Introduction to The ChatGPT APIs"
      ]
    },
    {
      "cell_type": "markdown",
      "metadata": {
        "id": "c6_sCJ75h5eW"
      },
      "source": [
        "Install or update the OpenAI Python library first"
      ]
    },
    {
      "cell_type": "code",
      "execution_count": 1,
      "metadata": {
        "colab": {
          "base_uri": "https://localhost:8080/"
        },
        "id": "QAInDz6Ph5eW",
        "outputId": "e9ab3461-94d8-4d4c-dfb0-6a84981a3e77"
      },
      "outputs": [
        {
          "name": "stdout",
          "output_type": "stream",
          "text": [
            "Notebook cleaned.\n"
          ]
        }
      ],
      "source": [
        "import IPython\n",
        "import sys\n",
        "\n",
        "def clean_notebook():\n",
        "    IPython.display.clear_output(wait=True)\n",
        "    print(\"Notebook cleaned.\")\n",
        "\n",
        "!pip install openai\n",
        "!pip install gradio\n",
        "\n",
        "# Clean up the notebook\n",
        "clean_notebook()"
      ]
    },
    {
      "cell_type": "code",
      "execution_count": null,
      "metadata": {
        "id": "XiYns89ch5eX"
      },
      "outputs": [],
      "source": [
        "\n",
        "import openai\n",
        "openai.api_key = \"key\""
      ]
    },
    {
      "cell_type": "markdown",
      "metadata": {
        "id": "o7qd_mMth5eX"
      },
      "source": [
        "To load environment variables, you can use anything you like but I used `python-dotenv`. Just create a `.env` file with your `OPENAI_API_KEY` then load it."
      ]
    },
    {
      "cell_type": "markdown",
      "metadata": {
        "id": "mGgO5k0_h5eX"
      },
      "source": [
        "### Basic ChatGPT API Call"
      ]
    },
    {
      "cell_type": "markdown",
      "metadata": {
        "id": "_ex8GhkJh5eX"
      },
      "source": [
        "Let's do a basic chat API call to learn about the chat format:"
      ]
    },
    {
      "cell_type": "code",
      "execution_count": null,
      "metadata": {
        "id": "8DALDMwph5eX"
      },
      "outputs": [],
      "source": [
        "MODEL = \"gpt-3.5-turbo\"\n",
        "\n",
        "response = openai.chat.completions.create(\n",
        "    model=MODEL,\n",
        "    messages=[\n",
        "        {\"role\": \"system\", \"content\": \"You are an AI research assistant. You use a tone that is technical and scientific.\"},\n",
        "        {\"role\": \"user\", \"content\": \"Hello, who are you?\"},\n",
        "        {\"role\": \"assistant\", \"content\": \"Greeting! I am an AI research assistant. How can I help you today?\"},\n",
        "        {\"role\": \"user\", \"content\": \"Can you tell me about the creation of black holes?\"}\n",
        "    ],\n",
        "    temperature=0.8,\n",
        ")"
      ]
    },
    {
      "cell_type": "markdown",
      "metadata": {
        "id": "RQfN9kkYh5eX"
      },
      "source": [
        "Let's print the response:"
      ]
    },
    {
      "cell_type": "code",
      "execution_count": null,
      "metadata": {
        "id": "bPO28p6eh5eY",
        "outputId": "7dffe84d-8db9-4c61-9345-23710b71af44"
      },
      "outputs": [
        {
          "data": {
            "text/markdown": [
              "Black holes are regions in space where gravity is so strong that nothing, not even light, can escape from them. They are formed when massive stars undergo gravitational collapse at the end of their life cycle. \n",
              "\n",
              "The formation process of a black hole begins when a massive star exhausts its nuclear fuel and can no longer support itself against its own gravity. The core of the star collapses under its immense gravitational force, causing it to shrink rapidly. As the core contracts, it becomes denser and hotter, eventually forming a singularity—a point of infinite density and gravitational force—at its center.\n",
              "\n",
              "The collapsing core releases a burst of energy in the form of a supernova explosion, which can outshine entire galaxies for a brief period of time. If the remaining mass of the core is above a certain threshold known as the Tolman–Oppenheimer–Volkoff limit, gravity overcomes all other forces, and a black hole is formed.\n",
              "\n",
              "The event horizon of a black hole is the boundary beyond which nothing can escape its gravitational pull. Anything that crosses the event horizon is pulled into the black hole, including light, making it invisible to external observers.\n",
              "\n",
              "Black holes come in different sizes, ranging from stellar-mass black holes formed from the collapse of massive stars to supermassive black holes found at the centers of galaxies, which can have masses millions or even billions of times that of the Sun."
            ],
            "text/plain": [
              "<IPython.core.display.Markdown object>"
            ]
          },
          "execution_count": 5,
          "metadata": {},
          "output_type": "execute_result"
        }
      ],
      "source": [
        "# pretty format the response\n",
        "IPython.display.Markdown(response.choices[0].message.content)"
      ]
    },
    {
      "cell_type": "code",
      "execution_count": null,
      "metadata": {
        "id": "5i0mk9mYh5eY"
      },
      "outputs": [],
      "source": []
    }
  ],
  "metadata": {
    "colab": {
      "provenance": []
    },
    "kernelspec": {
      "display_name": "promptlecture",
      "language": "python",
      "name": "python3"
    },
    "language_info": {
      "codemirror_mode": {
        "name": "ipython",
        "version": 3
      },
      "file_extension": ".py",
      "mimetype": "text/x-python",
      "name": "python",
      "nbconvert_exporter": "python",
      "pygments_lexer": "ipython3",
      "version": "3.10.13"
    },
    "orig_nbformat": 4,
    "vscode": {
      "interpreter": {
        "hash": "f38e0373277d6f71ee44ee8fea5f1d408ad6999fda15d538a69a99a1665a839d"
      }
    }
  },
  "nbformat": 4,
  "nbformat_minor": 0
}
